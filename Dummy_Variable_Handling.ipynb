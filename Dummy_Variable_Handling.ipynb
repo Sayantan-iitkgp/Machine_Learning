{
 "cells": [
  {
   "cell_type": "markdown",
   "metadata": {},
   "source": [
    "This is for handling Nominal Variables in any dataset to convert it in a suitable number (Data Pre-processing step). For handling I am using \"Pandas Dummy Variable Handling\" Technique "
   ]
  },
  {
   "cell_type": "code",
   "execution_count": 56,
   "metadata": {},
   "outputs": [
    {
     "name": "stdout",
     "output_type": "stream",
     "text": [
      "[36991.31721061]\n",
      "[11080.74313219]\n",
      "X     Mileage  Age(yrs)  Audi A5  BMW X5\n",
      "0     69000         6        0       1\n",
      "1     35000         3        0       1\n",
      "2     57000         5        0       1\n",
      "3     22500         2        0       1\n",
      "4     46000         4        0       1\n",
      "5     59000         5        1       0\n",
      "6     52000         5        1       0\n",
      "7     72000         6        1       0\n",
      "8     91000         8        1       0\n",
      "9     67000         6        0       0\n",
      "10    83000         7        0       0\n",
      "11    79000         7        0       0\n",
      "12    59000         5        0       0\n",
      "Y 0     18000\n",
      "1     34000\n",
      "2     26100\n",
      "3     40000\n",
      "4     31500\n",
      "5     29400\n",
      "6     32000\n",
      "7     19300\n",
      "8     12000\n",
      "9     22000\n",
      "10    20000\n",
      "11    21000\n",
      "12    33000\n",
      "Name: Sell Price($), dtype: int64\n"
     ]
    },
    {
     "name": "stderr",
     "output_type": "stream",
     "text": [
      "c:\\Users\\HP USER\\Anaconda3\\Lib\\site-packages\\sklearn\\base.py:493: UserWarning: X does not have valid feature names, but LinearRegression was fitted with feature names\n",
      "  warnings.warn(\n",
      "c:\\Users\\HP USER\\Anaconda3\\Lib\\site-packages\\sklearn\\base.py:493: UserWarning: X does not have valid feature names, but LinearRegression was fitted with feature names\n",
      "  warnings.warn(\n"
     ]
    },
    {
     "data": {
      "text/plain": [
       "0.9417050937281082"
      ]
     },
     "execution_count": 56,
     "metadata": {},
     "output_type": "execute_result"
    }
   ],
   "source": [
    "import numpy as np\n",
    "import pandas as pd\n",
    "import matplotlib.pyplot as plt\n",
    "%matplotlib inline\n",
    "from sklearn import linear_model\n",
    "\n",
    "df=pd.read_csv('carprices.csv')\n",
    "dummies= pd.get_dummies(df['Car Model'])\n",
    "merged_df=pd.concat([df,dummies],axis='columns')\n",
    "final=merged_df.drop(['Car Model','Mercedez Benz C class'],axis='columns')\n",
    "\n",
    "def bool_to_binary(a):\n",
    "    b=[]\n",
    "    for i in range(len(a)):\n",
    "        if(a[i]==True):\n",
    "            b.append(1)\n",
    "        else:\n",
    "            b.append(0)\n",
    "    return b \n",
    "\n",
    "final['Audi A5']=bool_to_binary(np.array(final['Audi A5'])) \n",
    "final['BMW X5'] =bool_to_binary(np.array(final['BMW X5'])) \n",
    "\n",
    "model=linear_model.LinearRegression()\n",
    "model.fit(final[['Mileage','Age(yrs)','Audi A5','BMW X5']],final['Sell Price($)'])\n",
    "m1,m2,m3,m4= model.coef_\n",
    "b=model.intercept_\n",
    "\n",
    "print(model.predict([[45000,4,0,0]]))\n",
    "print(model.predict([[86000,7,0,1]]))\n",
    "Y=final['Sell Price($)']\n",
    "X=final.drop(['Sell Price($)'],axis='columns')\n",
    "print(\"X\",X)\n",
    "print(\"Y\",Y)\n",
    "model.score(X,Y)"
   ]
  },
  {
   "cell_type": "markdown",
   "metadata": {},
   "source": [
    "Using sklearn OneHotEncoder"
   ]
  },
  {
   "cell_type": "code",
   "execution_count": 57,
   "metadata": {},
   "outputs": [
    {
     "name": "stdout",
     "output_type": "stream",
     "text": [
      "0.9417050937281083\n",
      "[36991.31721063]\n",
      "[11080.74313217]\n"
     ]
    }
   ],
   "source": [
    "from sklearn.preprocessing import LabelEncoder\n",
    "from sklearn.preprocessing import OneHotEncoder\n",
    "from sklearn.compose import ColumnTransformer\n",
    "le= LabelEncoder()\n",
    "\n",
    "df_LabelEncoder=df\n",
    "df_LabelEncoder['Car Model']=le.fit_transform(df_LabelEncoder['Car Model'])\n",
    "df_LabelEncoder\n",
    "x=df_LabelEncoder[['Car Model','Mileage','Age(yrs)']].values\n",
    "y=df_LabelEncoder['Sell Price($)'].values\n",
    "\n",
    "ct = ColumnTransformer([('Car MOdel', OneHotEncoder(), [0])], remainder = 'passthrough')\n",
    "\n",
    "x=ct.fit_transform(x)\n",
    "x=x[:,1:]\n",
    "model.fit(x,y)\n",
    "print(model.score(x,y))\n",
    "\n",
    "print(model.predict([[0,1,45000,4]]))\n",
    "print(model.predict([[1,0,86000,7]]))"
   ]
  }
 ],
 "metadata": {
  "kernelspec": {
   "display_name": "base",
   "language": "python",
   "name": "python3"
  },
  "language_info": {
   "codemirror_mode": {
    "name": "ipython",
    "version": 3
   },
   "file_extension": ".py",
   "mimetype": "text/x-python",
   "name": "python",
   "nbconvert_exporter": "python",
   "pygments_lexer": "ipython3",
   "version": "3.12.7"
  }
 },
 "nbformat": 4,
 "nbformat_minor": 2
}
